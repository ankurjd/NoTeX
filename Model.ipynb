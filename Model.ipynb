{
 "cells": [
  {
   "cell_type": "code",
   "execution_count": 1,
   "metadata": {},
   "outputs": [],
   "source": [
    "import numpy as np\n",
    "import tensorflow as tf\n",
    "import pickle as pkl\n",
    "np.random.seed(0)\n",
    "from tensorflow.keras.models import Model\n",
    "from tensorflow.keras.layers import Dense, Input, Dropout, LSTM, Activation, Bidirectional\n",
    "from tensorflow.keras.layers import Embedding\n",
    "from tensorflow.keras.preprocessing import sequence\n",
    "from tensorflow.keras.initializers import glorot_uniform\n",
    "np.random.seed(1)"
   ]
  },
  {
   "cell_type": "code",
   "execution_count": 4,
   "metadata": {},
   "outputs": [],
   "source": [
    "datapath=\"C:/Users/aiden/Downloads/ProjectData/FeatureData/\"\n",
    "with open(datapath+\"Train\", \"rb\") as f:\n",
    "    X_train, Y_train, vocab = pkl.load(f)\n",
    "with open(datapath+\"Test\", \"rb\") as f:\n",
    "    X_test, Y_test, _ = pkl.load(f)\n"
   ]
  },
  {
   "cell_type": "code",
   "execution_count": 7,
   "metadata": {},
   "outputs": [
    {
     "data": {
      "text/plain": [
       "['y',\n",
       " 'Right',\n",
       " '=',\n",
       " 'Right',\n",
       " 'A',\n",
       " 'Right',\n",
       " 'x',\n",
       " 'Right',\n",
       " '+',\n",
       " 'Right',\n",
       " 'A',\n",
       " 'Sup',\n",
       " '2']"
      ]
     },
     "execution_count": 7,
     "metadata": {},
     "output_type": "execute_result"
    }
   ],
   "source": [
    "Y_test[0]"
   ]
  },
  {
   "cell_type": "code",
   "execution_count": 9,
   "metadata": {},
   "outputs": [],
   "source": [
    "def data_to_index (data):\n",
    "    return [[vocab[w] for w in arr] for arr in data]"
   ]
  },
  {
   "cell_type": "code",
   "execution_count": 12,
   "metadata": {},
   "outputs": [
    {
     "data": {
      "text/plain": [
       "{'Right': 0,\n",
       " 'Sub': 1,\n",
       " 'Sup': 2,\n",
       " 'Above': 3,\n",
       " 'Below': 4,\n",
       " 'Inside': 5,\n",
       " 'NoRel': 6,\n",
       " 'y': 7,\n",
       " '=': 8,\n",
       " 'A': 9,\n",
       " 'x': 10,\n",
       " '+': 11,\n",
       " '2': 12,\n",
       " 'B': 13,\n",
       " 'n': 14,\n",
       " '(': 15,\n",
       " '1': 16,\n",
       " '-': 17,\n",
       " ')': 18,\n",
       " '0': 19,\n",
       " '\\\\lt': 20,\n",
       " 'C': 21,\n",
       " '\\\\times': 22,\n",
       " '\\\\gt': 23,\n",
       " '\\\\forall': 24,\n",
       " '\\\\in': 25,\n",
       " 'COMMA': 26,\n",
       " 'a': 27,\n",
       " 'b': 28,\n",
       " 'c': 29,\n",
       " '\\\\exists': 30,\n",
       " 'Y': 31,\n",
       " 'j': 32,\n",
       " '\\\\cos': 33,\n",
       " 'i': 34,\n",
       " '[': 35,\n",
       " ']': 36,\n",
       " '\\\\gamma': 37,\n",
       " '\\\\alpha': 38,\n",
       " '\\\\ldots': 39,\n",
       " 'd': 40,\n",
       " 't': 41,\n",
       " '\\\\{': 42,\n",
       " '\\\\}': 43,\n",
       " 'k': 44,\n",
       " '\\\\leq': 45,\n",
       " 'z': 46,\n",
       " '\\\\pi': 47,\n",
       " 'f': 48,\n",
       " 'e': 49,\n",
       " '\\\\lim': 50,\n",
       " '\\\\rightarrow': 51,\n",
       " '\\\\infty': 52,\n",
       " 'g': 53,\n",
       " '5': 54,\n",
       " '9': 55,\n",
       " '3': 56,\n",
       " '\\\\sum': 57,\n",
       " '8': 58,\n",
       " '7': 59,\n",
       " '4': 60,\n",
       " '\\\\neq': 61,\n",
       " '\\\\tan': 62,\n",
       " '\\\\sqrt': 63,\n",
       " '\\\\int': 64,\n",
       " '\\\\beta': 65,\n",
       " '\\\\pm': 66,\n",
       " '6': 67,\n",
       " '\\\\theta': 68,\n",
       " '/': 69,\n",
       " 'X': 70,\n",
       " '\\\\div': 71,\n",
       " '.': 72,\n",
       " 'p': 73,\n",
       " '\\\\sin': 74,\n",
       " '\\\\phi': 75,\n",
       " 'r': 76,\n",
       " '\\\\geq': 77,\n",
       " '\\\\log': 78,\n",
       " 'm': 79,\n",
       " '!': 80,\n",
       " 'F': 81,\n",
       " 'P': 82,\n",
       " 'v': 83,\n",
       " 'w': 84,\n",
       " 'T': 85,\n",
       " '\\\\Delta': 86,\n",
       " 'G': 87,\n",
       " 'R': 88,\n",
       " 'u': 89,\n",
       " 'q': 90,\n",
       " 's': 91,\n",
       " 'N': 92,\n",
       " 'E': 93,\n",
       " 'S': 94,\n",
       " 'M': 95,\n",
       " '\\\\prime': 96,\n",
       " 'l': 97,\n",
       " '\\\\mu': 98,\n",
       " 'L': 99,\n",
       " 'H': 100,\n",
       " '|': 101,\n",
       " 'I': 102,\n",
       " '\\\\sigma': 103,\n",
       " 'o': 104,\n",
       " 'V': 105,\n",
       " 'h': 106,\n",
       " '\\\\lambda': 107,\n",
       " '<': 108,\n",
       " '>': 109}"
      ]
     },
     "execution_count": 12,
     "metadata": {},
     "output_type": "execute_result"
    }
   ],
   "source": [
    "vocab"
   ]
  },
  {
   "cell_type": "code",
   "execution_count": 13,
   "metadata": {},
   "outputs": [
    {
     "data": {
      "text/plain": [
       "['B',\n",
       " 'Sub',\n",
       " 'n',\n",
       " 'NoRel',\n",
       " '(',\n",
       " 'Right',\n",
       " '1',\n",
       " 'Right',\n",
       " '-',\n",
       " 'Right',\n",
       " 'x',\n",
       " 'Right',\n",
       " ')',\n",
       " 'Right',\n",
       " '=',\n",
       " 'Right',\n",
       " '(',\n",
       " 'Right',\n",
       " '-',\n",
       " 'Right',\n",
       " '1',\n",
       " 'Right',\n",
       " ')',\n",
       " 'Sup',\n",
       " 'n',\n",
       " 'NoRel',\n",
       " 'B',\n",
       " 'Sub',\n",
       " 'n',\n",
       " 'NoRel',\n",
       " '(',\n",
       " 'Right',\n",
       " 'x',\n",
       " 'Right',\n",
       " ')']"
      ]
     },
     "execution_count": 13,
     "metadata": {},
     "output_type": "execute_result"
    }
   ],
   "source": [
    "Y_train[0]"
   ]
  },
  {
   "cell_type": "code",
   "execution_count": 11,
   "metadata": {},
   "outputs": [
    {
     "data": {
      "text/plain": [
       "[13,\n",
       " 1,\n",
       " 14,\n",
       " 6,\n",
       " 15,\n",
       " 0,\n",
       " 16,\n",
       " 0,\n",
       " 17,\n",
       " 0,\n",
       " 10,\n",
       " 0,\n",
       " 18,\n",
       " 0,\n",
       " 8,\n",
       " 0,\n",
       " 15,\n",
       " 0,\n",
       " 17,\n",
       " 0,\n",
       " 16,\n",
       " 0,\n",
       " 18,\n",
       " 2,\n",
       " 14,\n",
       " 6,\n",
       " 13,\n",
       " 1,\n",
       " 14,\n",
       " 6,\n",
       " 15,\n",
       " 0,\n",
       " 10,\n",
       " 0,\n",
       " 18]"
      ]
     },
     "execution_count": 11,
     "metadata": {},
     "output_type": "execute_result"
    }
   ],
   "source": [
    "data_to_index(Y_train)[0]"
   ]
  },
  {
   "cell_type": "code",
   "execution_count": null,
   "metadata": {},
   "outputs": [],
   "source": [
    "def MathModel(input_shape, output_dim):\n",
    "    input = Input(shape=input_shape)\n",
    "    X = Bidirectional(LSTM(128, return_sequences = True))(input)\n",
    "    X = Dropout(0.5)(X)\n",
    "    X = Bidirectional(LSTM(128, return_sequences = True))(X)\n",
    "    X = Dropout(0.5)(X)\n",
    "    X = Bidirectional(LSTM(128, return_sequences = True))(X)\n",
    "    X = Dropout(0.5)(X)\n",
    "    X = Dense(output_dim+1)(X)\n",
    "    X = Activation('softmax')(X)\n",
    "    \n",
    "    model = Model(inputs=input,outputs=X)\n",
    "    \n",
    "    return model"
   ]
  },
  {
   "cell_type": "code",
   "execution_count": null,
   "metadata": {},
   "outputs": [],
   "source": [
    "def CTCLoss(y_true, y_pred):\n",
    "    # Compute the training-time loss value\n",
    "    batch_len = tf.cast(tf.shape(y_true)[0], dtype=\"int64\")\n",
    "    input_length = tf.cast(tf.shape(y_pred)[1], dtype=\"int64\")\n",
    "    label_length = tf.cast(tf.shape(y_true)[1], dtype=\"int64\")\n",
    "\n",
    "    input_length = input_length * tf.ones(shape=(batch_len, 1), dtype=\"int64\")\n",
    "    label_length = label_length * tf.ones(shape=(batch_len, 1), dtype=\"int64\")\n",
    "\n",
    "    loss = tf.keras.backend.ctc_batch_cost(y_true, y_pred, input_length, label_length)\n",
    "    return loss"
   ]
  },
  {
   "cell_type": "code",
   "execution_count": null,
   "metadata": {},
   "outputs": [],
   "source": [
    "model.compile(optimizer='adam', loss = CTCLoss, metrics = ['accuracy'])"
   ]
  }
 ],
 "metadata": {
  "kernelspec": {
   "display_name": "tf",
   "language": "python",
   "name": "python3"
  },
  "language_info": {
   "codemirror_mode": {
    "name": "ipython",
    "version": 3
   },
   "file_extension": ".py",
   "mimetype": "text/x-python",
   "name": "python",
   "nbconvert_exporter": "python",
   "pygments_lexer": "ipython3",
   "version": "3.9.16 (main, Jan 11 2023, 16:16:36) [MSC v.1916 64 bit (AMD64)]"
  },
  "orig_nbformat": 4,
  "vscode": {
   "interpreter": {
    "hash": "6737d4ed9008f34a36365f9afa168c058c7bcfc27ae9ebfad5913b219a0345d6"
   }
  }
 },
 "nbformat": 4,
 "nbformat_minor": 2
}
